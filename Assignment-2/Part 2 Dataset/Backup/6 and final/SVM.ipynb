{
 "cells": [
  {
   "cell_type": "markdown",
   "id": "a4d41a77",
   "metadata": {},
   "source": [
    "# Loading & Splitting Dataset"
   ]
  },
  {
   "cell_type": "code",
   "execution_count": 101,
   "id": "be8ff1d9",
   "metadata": {},
   "outputs": [],
   "source": [
    "import numpy as np\n",
    "import pandas as pd\n",
    "import math\n",
    "import matplotlib.pyplot as plt\n",
    "\n",
    "def train_test_split(X, Y, test_size):\n",
    "    dataset_length = len(Y)\n",
    "    train_length = math.ceil(dataset_length * (1 - test_size))\n",
    "    return X[:train_length], X[train_length:], Y[:train_length], Y[train_length:]\n",
    "\n",
    "def normalization(data):\n",
    "    return (data - np.min(data)) / (np.max(data) - np.min(data))\n",
    "\n",
    "#df = pd.read_csv('heart.csv') # Accuracy 0 %\n",
    "#df = pd.read_csv('heart2.csv') # Accuracy 47 %\n",
    "df = pd.read_csv('heart3.csv')# Best Distribution datasets  Accuracy 83 %\n",
    "\n",
    "# X = np.array(df[['chol','thalach','thal']])\n",
    "X = np.array(df[['chol','thalach','thal','restecg','fbs','exang']])\n",
    "\n",
    "X = normalization(X)\n",
    "Y = np.array(df[\"target\"])\n",
    "\n",
    "X_train, X_test, y_train, y_test = train_test_split(X, Y, test_size=0.1)\n",
    "\n",
    "b=1\n",
    "\n",
    "\n",
    "#print(X_train.shape[0])\n",
    "#print(X_test.shape[0])\n",
    "#print(\"y_test : \",y_test2.shape[0],y_test2)\n",
    "#print(\"y_test  : \",y_test.shape[0],y_test)\n",
    "#print(\"Y-train  : \",y_train.shape[0],y_train)\n",
    "#print(\"X_test : \",X_test.shape[0])\n",
    "#print(\"y_test : \",y_test.shape[0])\n",
    "#print(\"X_test : \",X_test)\n",
    "#print(\"y_test : \",y_test)\n",
    "#print(\"y_train: \",y_train)"
   ]
  },
  {
   "cell_type": "markdown",
   "id": "80e5e440",
   "metadata": {},
   "source": [
    "# Plotting The Original Dataset"
   ]
  },
  {
   "cell_type": "code",
   "execution_count": 102,
   "id": "070e69a4",
   "metadata": {},
   "outputs": [
    {
     "data": {
      "image/png": "[encoded data removed]",
      "text/plain": [
       "<Figure size 432x288 with 1 Axes>"
      ]
     },
     "metadata": {
      "needs_background": "light"
     },
     "output_type": "display_data"
    }
   ],
   "source": [
    "# For every point mark point with - if label is 0 and mark with + if label is 1\n",
    "for i in range(len(X)):\n",
    "    if Y[i] == 0 :\n",
    "        plt.scatter(X[i][0], X[i][1], s=150 ,marker='_')\n",
    "    else:\n",
    "        plt.scatter(X[i][0], X[i][1], s=150 ,marker='+' )   \n"
   ]
  },
  {
   "cell_type": "markdown",
   "id": "7a625098",
   "metadata": {},
   "source": [
    "# Build SVM model\n"
   ]
  },
  {
   "cell_type": "code",
   "execution_count": 103,
   "id": "c1e7f4c9",
   "metadata": {},
   "outputs": [],
   "source": [
    "def SVM(X, Y, iteration,alpha):\n",
    "\n",
    "    w = np.zeros(len(X[0]))\n",
    "    # The learning rate\n",
    "    #alpha = 0.01\n",
    "   \n",
    "    # Training\n",
    "    for itera in range(1,iteration):\n",
    "        for i, x in enumerate(X): # Update Weights Equations\n",
    "            Lambda = 1/itera\n",
    "              # It there is an no error\n",
    "            if(Y[i] * np.dot(X[i], w) + b ) >=1 :\n",
    "                      w = w - alpha * (2*Lambda*w)\n",
    "            else: \n",
    "                      w = w + alpha * ( (X[i] * Y[i]) - (2*Lambda*w) ) \n",
    "    \n",
    "    return w"
   ]
  },
  {
   "cell_type": "markdown",
   "id": "5db87578",
   "metadata": {},
   "source": [
    "# Predict target"
   ]
  },
  {
   "cell_type": "code",
   "execution_count": 104,
   "id": "d2860f3b",
   "metadata": {},
   "outputs": [],
   "source": [
    "def predict(X, w):\n",
    "    predict_List = np.dot(X, w) + b\n",
    "    for i in range(len(X)):\n",
    "        predict_List[i]=1 if predict_List[i]>=1 else 0\n",
    "    return  predict_List"
   ]
  },
  {
   "cell_type": "markdown",
   "id": "01c0a19e",
   "metadata": {},
   "source": [
    "# Calculate Accuracy"
   ]
  },
  {
   "cell_type": "code",
   "execution_count": 105,
   "id": "c77447ea",
   "metadata": {},
   "outputs": [],
   "source": [
    "def Accuracy(Predict_target):\n",
    "    count_Accurcy = 0\n",
    "    for i in range(len(y_test)):\n",
    "        if(Predict_target[i] == y_test[i] ):\n",
    "            count_Accurcy +=1 \n",
    "\n",
    "    return round((count_Accurcy/y_test.shape[0]) * 100 )"
   ]
  },
  {
   "cell_type": "code",
   "execution_count": 106,
   "id": "a7cab596",
   "metadata": {},
   "outputs": [
    {
     "name": "stdout",
     "output_type": "stream",
     "text": [
      "Accuracy : 83 %\n"
     ]
    }
   ],
   "source": [
    "w = SVM(X_train,y_train,10000,.1)\n",
    "predict_List = predict(X_test,w)\n",
    "print(\"Accuracy :\" , Accuracy(predict_List) ,\"%\")"
   ]
  },
  {
   "cell_type": "markdown",
   "id": "eeaeffe4",
   "metadata": {},
   "source": [
    "# Test and Accuracy"
   ]
  },
  {
   "cell_type": "code",
   "execution_count": 94,
   "id": "cba5cce7",
   "metadata": {},
   "outputs": [],
   "source": [
    "# Learning rate = 0.1  , Iteration = 1000  , Test size = 0.1  , Accuracy = 83 % \n",
    "# Learning rate = 0.01  , Iteration = 1000  , Test size = 0.2  , Accuracy = 75 % \n",
    "# Learning rate = 0.01  , Iteration = 10000  , Test size = 0.49  , Accuracy = 58 % \n",
    "# Learning rate = 0.1  , Iteration = 1000  , Test size = 0.45  , Accuracy = 57 % .\n",
    "# Learning rate = 0.1  , Iteration = 1000  , Test size = 0.4  , Accuracy = 56 % .\n",
    "# Learning rate = 0.01  , Iteration = 10000  , Test size  = 0.5  , Accuracy = 56 % .\n",
    "# Learning rate = 1  , Iteration = 13000  , Test size  = 0.35  , Accuracy = 54 % .\n",
    "# Learning rate = 0.001  , Iteration = 10000  , Test size  = 0.2  , Accuracy = 50 % .\n",
    "# Learning rate = 0.1  , Iteration = 10000  , Test size  = 0.1  , Accuracy = 47 % \n"
   ]
  },
  {
   "cell_type": "code",
   "execution_count": null,
   "id": "f3dbeae0",
   "metadata": {},
   "outputs": [],
   "source": []
  }
 ],
 "metadata": {
  "celltoolbar": "Raw Cell Format",
  "kernelspec": {
   "display_name": "Python 3 (ipykernel)",
   "language": "python",
   "name": "python3"
  },
  "language_info": {
   "codemirror_mode": {
    "name": "ipython",
    "version": 3
   },
   "file_extension": ".py",
   "mimetype": "text/x-python",
   "name": "python",
   "nbconvert_exporter": "python",
   "pygments_lexer": "ipython3",
   "version": "3.9.5"
  }
 },
 "nbformat": 4,
 "nbformat_minor": 5
}
