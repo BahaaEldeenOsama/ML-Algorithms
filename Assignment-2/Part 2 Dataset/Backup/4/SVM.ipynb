{
 "cells": [
  {
   "cell_type": "markdown",
   "id": "e4dd3bf3",
   "metadata": {},
   "source": [
    "# Loading & Splitting Dataset"
   ]
  },
  {
   "cell_type": "code",
   "execution_count": 334,
   "id": "7bb2a8b9",
   "metadata": {},
   "outputs": [],
   "source": [
    "import numpy as np\n",
    "import pandas as pd\n",
    "import math\n",
    "import matplotlib.pyplot as plt\n",
    "\n",
    "def train_test_split(X, Y, test_size):\n",
    "    dataset_length = len(Y)\n",
    "    train_length = math.ceil(dataset_length * (1 - test_size))\n",
    "    return X[:train_length], X[train_length:], Y[:train_length], Y[train_length:]\n",
    "\n",
    "def normalization(data):\n",
    "    return (data - np.min(data)) / (np.max(data) - np.min(data))\n",
    "\n",
    "df = pd.read_csv('heartV2.csv')\n",
    "\n",
    "X = np.array(df[['chol','thalach','thal']])\n",
    "X = normalization(X)\n",
    "Y = np.array(df[\"target\"])\n",
    "\n",
    "X_train, X_test, y_train, y_test = train_test_split(X, Y, test_size=0.4)\n",
    "\n",
    "b=1\n",
    "\n",
    "\n",
    "#print(X_train.shape[0])\n",
    "#print(X_test.shape[0])\n",
    "#print(\"y_test : \",y_test2.shape[0],y_test2)\n",
    "#print(\"y_test  : \",y_test.shape[0],y_test)\n",
    "#print(\"Y-train  : \",y_train.shape[0],y_train)\n",
    "#print(\"X_test : \",X_test.shape[0])\n",
    "#print(\"y_test : \",y_test.shape[0])\n",
    "#print(\"X_test : \",X_test)\n",
    "#print(\"y_test : \",y_test)\n",
    "#print(\"y_train: \",y_train)"
   ]
  },
  {
   "cell_type": "markdown",
   "id": "b22de80b",
   "metadata": {},
   "source": [
    "# Plotting The Original Dataset"
   ]
  },
  {
   "cell_type": "code",
   "execution_count": 335,
   "id": "5df0f228",
   "metadata": {},
   "outputs": [
    {
     "data": {
      "image/png": "[encoded data removed]",
      "text/plain": [
       "<Figure size 432x288 with 1 Axes>"
      ]
     },
     "metadata": {
      "needs_background": "light"
     },
     "output_type": "display_data"
    }
   ],
   "source": [
    "# For every point mark point with - if label is 0 and mark with + if label is 1\n",
    "for i in range(len(X)):\n",
    "    if Y[i] == 0 :\n",
    "        plt.scatter(X[i][0], X[i][1], s=150 ,marker='_')\n",
    "    else:\n",
    "        plt.scatter(X[i][0], X[i][1], s=150 ,marker='+' )   \n"
   ]
  },
  {
   "cell_type": "code",
   "execution_count": 336,
   "id": "7842a0f1",
   "metadata": {},
   "outputs": [],
   "source": [
    "def SVM(X, Y, iteration,alpha):\n",
    "\n",
    "    w = np.zeros(len(X[0]))\n",
    "    # The learning rate\n",
    "    #alpha = 0.01\n",
    "   \n",
    "    # Training\n",
    "    for itera in range(1,iteration):\n",
    "        for i, x in enumerate(X): # Update Weights Equations\n",
    "            Lambda = 1/itera\n",
    "              # It there is an NO error\n",
    "            if(Y[i] * np.dot(X[i], w) + b ) >=1 :\n",
    "                      w = w - alpha * (2*Lambda*w)\n",
    "            else: \n",
    "                      w = w + alpha * ( (X[i] * Y[i]) - (2*Lambda*w) ) \n",
    "    \n",
    "    return w"
   ]
  },
  {
   "cell_type": "code",
   "execution_count": 349,
   "id": "467ccc50",
   "metadata": {},
   "outputs": [],
   "source": [
    "def predict(X, w):\n",
    "    predict_List = np.dot(X, w) + b\n",
    "    \n",
    "    for i in range(len(X)):\n",
    "        Predict_list[i]=1 if predict_List[i]>=1 else 0\n",
    "    return  predict_List"
   ]
  },
  {
   "cell_type": "code",
   "execution_count": 353,
   "id": "004cfb89",
   "metadata": {},
   "outputs": [],
   "source": [
    "def Accurcy(Predict_target):\n",
    "    count_Accurcy = 0\n",
    "    for i in range(len(y_test)):\n",
    "        if(Predict_target[i] == y_test[i] ):\n",
    "            count_Accurcy +=1 \n",
    "\n",
    "    return round((count_Accurcy/y_test.shape[0]) * 100 )"
   ]
  },
  {
   "cell_type": "code",
   "execution_count": 354,
   "id": "f434a9a6",
   "metadata": {},
   "outputs": [
    {
     "name": "stdout",
     "output_type": "stream",
     "text": [
      "Accurcy : 56 %\n"
     ]
    }
   ],
   "source": [
    "w = SVM(X_train,y_train,1000,.1)\n",
    "p = predict(X_test,w)\n",
    "print(\"Accurcy :\" , Accurcy(p) ,\"%\")"
   ]
  },
  {
   "cell_type": "code",
   "execution_count": null,
   "id": "96e70023",
   "metadata": {},
   "outputs": [],
   "source": []
  }
 ],
 "metadata": {
  "celltoolbar": "Raw Cell Format",
  "kernelspec": {
   "display_name": "Python 3 (ipykernel)",
   "language": "python",
   "name": "python3"
  },
  "language_info": {
   "codemirror_mode": {
    "name": "ipython",
    "version": 3
   },
   "file_extension": ".py",
   "mimetype": "text/x-python",
   "name": "python",
   "nbconvert_exporter": "python",
   "pygments_lexer": "ipython3",
   "version": "3.9.5"
  }
 },
 "nbformat": 4,
 "nbformat_minor": 5
}
